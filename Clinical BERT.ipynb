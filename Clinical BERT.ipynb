{
 "cells": [
  {
   "cell_type": "markdown",
   "id": "4b039fab-fd0e-46ba-ab8a-26be6858e7f9",
   "metadata": {},
   "source": [
    "**Predict 30-day hospital readmission**"
   ]
  },
  {
   "cell_type": "code",
   "execution_count": 1,
   "id": "27fa89dd-486d-4396-84d7-4106865d8967",
   "metadata": {},
   "outputs": [],
   "source": [
    "# Import libraries\n",
    "import pandas as pd\n",
    "import matplotlib.pyplot as plt\n",
    "import psycopg2\n",
    "import getpass\n",
    "%matplotlib inline\n",
    "plt.style.use('ggplot') \n",
    "import numpy as np\n",
    "import torch\n",
    "import torch.nn as nn\n",
    "import torch.optim as optim\n",
    "import torch\n",
    "from torch.utils.data import Dataset, DataLoader\n",
    "import torch.nn.functional as F"
   ]
  },
  {
   "cell_type": "markdown",
   "id": "5c565a1c-bb79-45c3-a5b8-0e3a3c56d981",
   "metadata": {},
   "source": [
    "**Load Data from hugging face**"
   ]
  },
  {
   "cell_type": "markdown",
   "id": "d54578dd-fc9a-411d-9e10-3915a32ccba0",
   "metadata": {},
   "source": [
    "@article{zhao2023large,\n",
    "  title={A large-scale dataset of patient summaries for retrieval-based clinical decision support systems},\n",
    "  author={Zhao, Zhengyun and Jin, Qiao and Chen, Fangyuan and Peng, Tuorui and Yu, Sheng},\n",
    "  journal={Scientific Data},\n",
    "  volume={10},\n",
    "  number={1},\n",
    "  pages={909},\n",
    "  year={2023},\n",
    "  publisher={Nature Publishing Group UK London}\n",
    "}"
   ]
  },
  {
   "cell_type": "code",
   "execution_count": 17,
   "id": "9eb2379a-cd9b-4aec-a194-e4688cd227d0",
   "metadata": {},
   "outputs": [],
   "source": [
    "import pandas as pd\n",
    "\n",
    "df = pd.read_csv(\"hf://datasets/zhengyun21/PMC-Patients/PMC-Patients.csv\")"
   ]
  },
  {
   "cell_type": "code",
   "execution_count": 3,
   "id": "ea78a4b9-0da4-4008-a6aa-ee3c7374d3d6",
   "metadata": {},
   "outputs": [
    {
     "name": "stdout",
     "output_type": "stream",
     "text": [
      "   patient_id patient_uid      PMID                         file_path  \\\n",
      "0           0   7665777-1  33492400  comm/PMC007xxxxxx/PMC7665777.xml   \n",
      "1           1   7665777-2  33492400  comm/PMC007xxxxxx/PMC7665777.xml   \n",
      "2           2   7665777-3  33492400  comm/PMC007xxxxxx/PMC7665777.xml   \n",
      "3           3   7665777-4  33492400  comm/PMC007xxxxxx/PMC7665777.xml   \n",
      "4           4   7665777-5  33492400  comm/PMC007xxxxxx/PMC7665777.xml   \n",
      "\n",
      "                                               title  \\\n",
      "0  Early Physical Therapist Interventions for Pat...   \n",
      "1  Early Physical Therapist Interventions for Pat...   \n",
      "2  Early Physical Therapist Interventions for Pat...   \n",
      "3  Early Physical Therapist Interventions for Pat...   \n",
      "4  Early Physical Therapist Interventions for Pat...   \n",
      "\n",
      "                                             patient               age gender  \\\n",
      "0  This 60-year-old male was hospitalized due to ...  [[60.0, 'year']]      M   \n",
      "1  A 39-year-old man was hospitalized due to an i...  [[39.0, 'year']]      M   \n",
      "2  One week after a positive COVID-19 result this...  [[57.0, 'year']]      M   \n",
      "3  This 69-year-old male was admitted to the ICU ...  [[69.0, 'year']]      M   \n",
      "4  This 57-year-old male was admitted to the ICU ...  [[57.0, 'year']]      M   \n",
      "\n",
      "                                   relevant_articles  \\\n",
      "0  {'32320506': 1, '32293716': 1, '23219649': 1, ...   \n",
      "1  {'32320506': 1, '32293716': 1, '23219649': 1, ...   \n",
      "2  {'32320506': 1, '32293716': 1, '23219649': 1, ...   \n",
      "3  {'32320506': 1, '32293716': 1, '23219649': 1, ...   \n",
      "4  {'32320506': 1, '32293716': 1, '23219649': 1, ...   \n",
      "\n",
      "                                    similar_patients  \n",
      "0  {'7665777-2': 2, '7665777-3': 2, '7665777-4': ...  \n",
      "1  {'7665777-1': 2, '7665777-3': 2, '7665777-4': ...  \n",
      "2  {'7665777-1': 2, '7665777-2': 2, '7665777-4': ...  \n",
      "3  {'7665777-1': 2, '7665777-2': 2, '7665777-3': ...  \n",
      "4  {'7665777-1': 2, '7665777-2': 2, '7665777-3': ...  \n"
     ]
    }
   ],
   "source": [
    "print(df.head())"
   ]
  },
  {
   "cell_type": "code",
   "execution_count": 9,
   "id": "edb63040-975f-471a-8fd4-7e432f1b8a2e",
   "metadata": {},
   "outputs": [
    {
     "name": "stdout",
     "output_type": "stream",
     "text": [
      "['Early Physical Therapist Interventions for Patients With COVID-19 in the Acute Care Hospital: A Case Report Series'\n",
      " 'Deranged Liver Function Tests and Liver Insults in Malnourished Patients: A Report of Two Cases and Literature Review'\n",
      " 'Goserelin Ovarian Ablation Failure in Premenopausal Women With Breast Cancer'\n",
      " ...\n",
      " 'Heart of the Matter: Syncope as a Rare Presentation of Lung Cancer Invading\\\\nthe Heart'\n",
      " 'A multidisciplinary collaborative model based on single-port\\\\nthoracoscopy for the treatment of giant mediastinal lymph node hyperplasia: a\\\\ncase report'\n",
      " 'Resection of small acoustic neuroma using the transcanal transvestibular\\\\nendoscopic approach']\n"
     ]
    }
   ],
   "source": [
    "print(df['title'].unique())"
   ]
  },
  {
   "cell_type": "code",
   "execution_count": 4,
   "id": "6a59d4ee-6bbf-4745-b51f-fd953b81fc98",
   "metadata": {},
   "outputs": [],
   "source": [
    "df_subset=df[:100]"
   ]
  },
  {
   "cell_type": "markdown",
   "id": "2708b69d-0beb-412b-bb89-5ac98b23beff",
   "metadata": {},
   "source": [
    "**Implementing generic Clinical BERT model (assuming no labels)**"
   ]
  },
  {
   "cell_type": "markdown",
   "id": "ae3ebfb6-e0c3-451a-82ed-5475d231c969",
   "metadata": {},
   "source": [
    "Kexin Huang, Jaan Altosaar, and Rajesh Ranganath. 2020. ClinicalBERT:\n",
    "Modeling Clinical Notes and Predicting Hospital Readmission. In CHIL ’20:\n",
    "ACM Conference on Health, Inference, and Learning; Workshop Track. April\n",
    "02–04, 2020, Toronto, ON. ACM, New York, NY, USA, 9 pages."
   ]
  },
  {
   "cell_type": "code",
   "execution_count": 5,
   "id": "3dacdf82-ab3d-47cc-96f5-8b7300f044fb",
   "metadata": {},
   "outputs": [
    {
     "name": "stderr",
     "output_type": "stream",
     "text": [
      "Some weights of DistilBertForSequenceClassification were not initialized from the model checkpoint at medicalai/ClinicalBERT and are newly initialized: ['classifier.bias', 'classifier.weight', 'pre_classifier.bias', 'pre_classifier.weight']\n",
      "You should probably TRAIN this model on a down-stream task to be able to use it for predictions and inference.\n"
     ]
    }
   ],
   "source": [
    "# Load model directly\n",
    "from transformers import AutoTokenizer, AutoModelForMaskedLM, AutoModelForSequenceClassification\n",
    "\n",
    "tokenizer = AutoTokenizer.from_pretrained(\"medicalai/ClinicalBERT\")\n",
    "model = AutoModelForSequenceClassification.from_pretrained(\"medicalai/ClinicalBERT\")"
   ]
  },
  {
   "cell_type": "code",
   "execution_count": 6,
   "id": "d5c63138-4476-4a66-a6c3-33e447ad7f56",
   "metadata": {},
   "outputs": [
    {
     "name": "stdout",
     "output_type": "stream",
     "text": [
      "                                             patient  \\\n",
      "0  This 60-year-old male was hospitalized due to ...   \n",
      "1  A 39-year-old man was hospitalized due to an i...   \n",
      "2  One week after a positive COVID-19 result this...   \n",
      "3  This 69-year-old male was admitted to the ICU ...   \n",
      "4  This 57-year-old male was admitted to the ICU ...   \n",
      "\n",
      "                                              tokens  \n",
      "0  [this, 60, -, year, -, old, male, was, hospita...  \n",
      "1  [a, 39, -, year, -, old, man, was, hospital, #...  \n",
      "2  [one, week, after, a, positive, co, ##vid, -, ...  \n",
      "3  [this, 69, -, year, -, old, male, was, admitte...  \n",
      "4  [this, 57, -, year, -, old, male, was, admitte...  \n"
     ]
    },
    {
     "name": "stderr",
     "output_type": "stream",
     "text": [
      "C:\\Users\\sukri\\AppData\\Local\\Temp\\ipykernel_23924\\2257612256.py:2: SettingWithCopyWarning: \n",
      "A value is trying to be set on a copy of a slice from a DataFrame.\n",
      "Try using .loc[row_indexer,col_indexer] = value instead\n",
      "\n",
      "See the caveats in the documentation: https://pandas.pydata.org/pandas-docs/stable/user_guide/indexing.html#returning-a-view-versus-a-copy\n",
      "  df_subset['tokens'] = df_subset['patient'].apply(lambda note: tokenizer.tokenize(note))\n"
     ]
    }
   ],
   "source": [
    "# Tokenize each patient note in the column\n",
    "df_subset['tokens'] = df_subset['patient'].apply(lambda note: tokenizer.tokenize(note))\n",
    "\n",
    "# Display the tokens for the first few rows\n",
    "print(df_subset[['patient', 'tokens']].head())"
   ]
  },
  {
   "cell_type": "code",
   "execution_count": 7,
   "id": "02567121-1128-48be-a20b-403a6ed12cb8",
   "metadata": {},
   "outputs": [
    {
     "name": "stdout",
     "output_type": "stream",
     "text": [
      "                                             patient  readmission_risk\n",
      "0  This 60-year-old male was hospitalized due to ...          0.515559\n",
      "1  A 39-year-old man was hospitalized due to an i...          0.515285\n",
      "2  One week after a positive COVID-19 result this...          0.516732\n",
      "3  This 69-year-old male was admitted to the ICU ...          0.517032\n",
      "4  This 57-year-old male was admitted to the ICU ...          0.515975\n"
     ]
    },
    {
     "name": "stderr",
     "output_type": "stream",
     "text": [
      "C:\\Users\\sukri\\AppData\\Local\\Temp\\ipykernel_23924\\3107095089.py:18: SettingWithCopyWarning: \n",
      "A value is trying to be set on a copy of a slice from a DataFrame.\n",
      "Try using .loc[row_indexer,col_indexer] = value instead\n",
      "\n",
      "See the caveats in the documentation: https://pandas.pydata.org/pandas-docs/stable/user_guide/indexing.html#returning-a-view-versus-a-copy\n",
      "  df_subset.loc[:, 'readmission_risk'] = df_subset['patient'].apply(predict_risk)\n"
     ]
    }
   ],
   "source": [
    "# Define a function to predict the readmission risk score for each patient note\n",
    "def predict_risk(patient_note):\n",
    "    # Tokenize the input text (note)\n",
    "    inputs = tokenizer(patient_note, return_tensors=\"pt\", truncation=True, padding=True, max_length=512)\n",
    "    #print(f\"Tokenized Input Length: {len(inputs['input_ids'][0])}\")  # Debugging\n",
    "\n",
    "    # Make prediction (forward pass through the model)\n",
    "    with torch.no_grad():\n",
    "        outputs = model(**inputs)\n",
    "        logits = outputs.logits\n",
    "\n",
    "    # Apply sigmoid for a binary classification score (risk score)\n",
    "    risk_score = torch.sigmoid(logits[:,1]).item()  # Get the probability as a score #he risk of readmission (class 1).\n",
    "    #print(f\"Logits: {logits}, Risk Score: {risk_score}\")  # Debugging\n",
    "    return risk_score\n",
    "\n",
    "# Apply the function to the 'patient_note' column and create a new 'readmission_risk' column\n",
    "df_subset.loc[:, 'readmission_risk'] = df_subset['patient'].apply(predict_risk)\n",
    "\n",
    "# Display the dataframe with risk scores\n",
    "print(df_subset[['patient', 'readmission_risk']].head())"
   ]
  },
  {
   "cell_type": "markdown",
   "id": "04dee189-b1d8-4018-bdd7-4d0ba6068dda",
   "metadata": {},
   "source": [
    "**The readmission risk seems to be clustered towards 50 to 51% which seems a bit odd. Although the pretrained model preprocesses and tokenizes  automatically, let's try to pre-process bt removing stop words and special characters and see if that makes a dufference**"
   ]
  },
  {
   "cell_type": "markdown",
   "id": "6c68c675-470c-4ea6-9ce9-e8fe4971c112",
   "metadata": {},
   "source": [
    "**Perform basic preprocessing and tokenization**"
   ]
  },
  {
   "cell_type": "code",
   "execution_count": 19,
   "id": "2fe28d19-ad92-46ba-91a6-95f585221481",
   "metadata": {},
   "outputs": [
    {
     "name": "stderr",
     "output_type": "stream",
     "text": [
      "[nltk_data] Downloading package stopwords to\n",
      "[nltk_data]     C:\\Users\\sukri\\AppData\\Roaming\\nltk_data...\n",
      "[nltk_data]   Package stopwords is already up-to-date!\n"
     ]
    }
   ],
   "source": [
    "import re\n",
    "from nltk.corpus import stopwords\n",
    "import nltk\n",
    "from transformers import AutoTokenizer\n",
    "\n",
    "# Download NLTK stopwords if not already available\n",
    "nltk.download('stopwords')\n",
    "\n",
    "# Load the pretrained tokenizer\n",
    "tokenizer = AutoTokenizer.from_pretrained(\"medicalai/ClinicalBERT\")\n",
    "\n",
    "# Define a function for preprocessing\n",
    "def preprocess_text(text):\n",
    "    # Remove special symbols (e.g., \"-\" but keep medical context terms like \"COVID-19\")\n",
    "    text = re.sub(r\"[^a-zA-Z0-9\\s\\-]\", \"\", text)  # Retain \"-\" for medical terms\n",
    "\n",
    "    # Tokenize words for stopword filtering\n",
    "    stop_words = set(stopwords.words(\"english\"))\n",
    "    tokens = text.split()  # Split by space for stopword removal\n",
    "    filtered_tokens = [word for word in tokens if word.lower() not in stop_words]\n",
    "\n",
    "    # Rejoin tokens into a cleaned text\n",
    "    return \" \".join(filtered_tokens)\n"
   ]
  },
  {
   "cell_type": "code",
   "execution_count": 20,
   "id": "02d9dd20-14d8-487c-8a5e-e32c90f5a8f2",
   "metadata": {},
   "outputs": [
    {
     "name": "stdout",
     "output_type": "stream",
     "text": [
      "                                              patient  \\\n",
      "0   This 60-year-old male was hospitalized due to ...   \n",
      "1   A 39-year-old man was hospitalized due to an i...   \n",
      "2   One week after a positive COVID-19 result this...   \n",
      "3   This 69-year-old male was admitted to the ICU ...   \n",
      "4   This 57-year-old male was admitted to the ICU ...   \n",
      "..                                                ...   \n",
      "95  Case 1 was a 2-year-old boy who was admitted t...   \n",
      "96  Case 2 was a 1-year-old girl who presented wit...   \n",
      "97  Lastly, case 3 was a 2-year-old boy who presen...   \n",
      "98  A 20-day-old girl was admitted to the neonatal...   \n",
      "99  A 75-year-old Caucasian woman with a history o...   \n",
      "\n",
      "                                    preprocessed_text  \n",
      "0   60-year-old male hospitalized due moderate ARD...  \n",
      "1   39-year-old man hospitalized due increasingly ...  \n",
      "2   One week positive COVID-19 result 57-year-old ...  \n",
      "3   69-year-old male admitted ICU dry cough 2 week...  \n",
      "4   57-year-old male admitted ICU dyspnea heavy dr...  \n",
      "..                                                ...  \n",
      "95  Case 1 2-year-old boy admitted department hema...  \n",
      "96  Case 2 1-year-old girl presented recurrent hem...  \n",
      "97  Lastly case 3 2-year-old boy presented hemopty...  \n",
      "98  20-day-old girl admitted neonatal intensive ca...  \n",
      "99  75-year-old Caucasian woman history well-contr...  \n",
      "\n",
      "[100 rows x 2 columns]\n"
     ]
    }
   ],
   "source": [
    "# Add a column with preprocessed text\n",
    "df_subset['preprocessed_text'] = df_subset['patient'].apply(preprocess_text)\n",
    "\n",
    "# Check the DataFrame with preprocessed text\n",
    "print(df_subset[['patient', 'preprocessed_text']])\n"
   ]
  },
  {
   "cell_type": "code",
   "execution_count": 21,
   "id": "85f09547-d620-43e9-af38-6157df511daf",
   "metadata": {},
   "outputs": [
    {
     "name": "stdout",
     "output_type": "stream",
     "text": [
      "                                    preprocessed_text  \\\n",
      "0   60-year-old male hospitalized due moderate ARD...   \n",
      "1   39-year-old man hospitalized due increasingly ...   \n",
      "2   One week positive COVID-19 result 57-year-old ...   \n",
      "3   69-year-old male admitted ICU dry cough 2 week...   \n",
      "4   57-year-old male admitted ICU dyspnea heavy dr...   \n",
      "..                                                ...   \n",
      "95  Case 1 2-year-old boy admitted department hema...   \n",
      "96  Case 2 1-year-old girl presented recurrent hem...   \n",
      "97  Lastly case 3 2-year-old boy presented hemopty...   \n",
      "98  20-day-old girl admitted neonatal intensive ca...   \n",
      "99  75-year-old Caucasian woman history well-contr...   \n",
      "\n",
      "                                     tokenized_inputs  \n",
      "0   [60, -, year, -, old, male, hospital, ##ized, ...  \n",
      "1   [39, -, year, -, old, man, hospital, ##ized, d...  \n",
      "2   [one, week, positive, co, ##vid, -, 19, result...  \n",
      "3   [69, -, year, -, old, male, admitted, i, ##cu,...  \n",
      "4   [57, -, year, -, old, male, admitted, i, ##cu,...  \n",
      "..                                                ...  \n",
      "95  [case, 1, 2, -, year, -, old, boy, admitted, d...  \n",
      "96  [case, 2, 1, -, year, -, old, girl, presented,...  \n",
      "97  [last, ##ly, case, 3, 2, -, year, -, old, boy,...  \n",
      "98  [20, -, day, -, old, girl, admitted, neo, ##na...  \n",
      "99  [75, -, year, -, old, ca, ##uca, ##sian, woman...  \n",
      "\n",
      "[100 rows x 2 columns]\n"
     ]
    }
   ],
   "source": [
    "# Apply tokenization function to the preprocessed_text column\n",
    "df_subset['tokenized_inputs'] = df_subset['preprocessed_text'].apply(lambda note: tokenizer.tokenize(note))\n",
    "\n",
    "# Check the results\n",
    "print(df_subset[['preprocessed_text', 'tokenized_inputs']])\n"
   ]
  },
  {
   "cell_type": "markdown",
   "id": "f8e310c0-aedb-4c8a-ade4-1348ee4b314a",
   "metadata": {},
   "source": [
    "**This seems to yield cleaner tokens but let's see if that makes a difference in the readmission risk scores.**"
   ]
  },
  {
   "cell_type": "code",
   "execution_count": 25,
   "id": "b11a0cbf-7278-47a1-97f7-af5e69a67741",
   "metadata": {},
   "outputs": [
    {
     "name": "stdout",
     "output_type": "stream",
     "text": [
      "                                   preprocessed_text  readmission_risk\n",
      "0  60-year-old male hospitalized due moderate ARD...          0.514184\n",
      "1  39-year-old man hospitalized due increasingly ...          0.514827\n",
      "2  One week positive COVID-19 result 57-year-old ...          0.515701\n",
      "3  69-year-old male admitted ICU dry cough 2 week...          0.515673\n",
      "4  57-year-old male admitted ICU dyspnea heavy dr...          0.514303\n"
     ]
    }
   ],
   "source": [
    "# Apply the function to the 'patient_note' column and create a new 'readmission_risk' column\n",
    "df_subset.loc[:, 'readmission_risk'] = df_subset['preprocessed_text'].apply(predict_risk)\n",
    "\n",
    "# Display the dataframe with risk scores\n",
    "print(df_subset[['preprocessed_text', 'readmission_risk']].head())"
   ]
  },
  {
   "cell_type": "markdown",
   "id": "6c9ed21d-2287-4dc0-ae8a-040286c5ec84",
   "metadata": {},
   "source": [
    "**Pre-processing text separately did not improve the scores either.**"
   ]
  },
  {
   "cell_type": "markdown",
   "id": "2bb693ad-6a44-4354-b3a6-019d3a1844c5",
   "metadata": {},
   "source": [
    "**Splitting data method**"
   ]
  },
  {
   "cell_type": "code",
   "execution_count": 26,
   "id": "4290b26e-5c3e-42a7-9b07-54d81f760fbc",
   "metadata": {},
   "outputs": [
    {
     "name": "stdout",
     "output_type": "stream",
     "text": [
      "                                              patient  readmission_risk\n",
      "83  A 40-year-old male engineer, former profession...          0.518061\n",
      "53  Patient 2: A 43-year-old woman with subarachno...          0.516854\n",
      "70  The first patient is a 53-year-old male with a...          0.518214\n",
      "45  A 44-year-old female with a history of asthma,...          0.520647\n",
      "44  A 68-year-old female patient was admitted to t...          0.518904\n"
     ]
    }
   ],
   "source": [
    "from sklearn.model_selection import train_test_split\n",
    "\n",
    "# Split the dataset into training and testing sets\n",
    "train_df, test_df = train_test_split(df_subset, test_size=0.2, random_state=42)\n",
    "\n",
    "# Define a function to predict the readmission risk score for each patient note\n",
    "def predict_risk(patient_note):\n",
    "    # Tokenize the input text (note)\n",
    "    inputs = tokenizer(patient_note, return_tensors=\"pt\", truncation=True, padding=True, max_length=512)\n",
    "\n",
    "    # Make prediction (forward pass through the model)\n",
    "    with torch.no_grad():\n",
    "        outputs = model(**inputs)\n",
    "        logits = outputs.logits\n",
    "\n",
    "    # Apply sigmoid for a binary classification score (risk score)\n",
    "    risk_score = torch.sigmoid(logits[:, 1]).item()  # Get the probability as a score\n",
    "    return risk_score\n",
    "\n",
    "# Apply the prediction function to the test set\n",
    "test_df['readmission_risk'] = test_df['patient'].apply(predict_risk)\n",
    "\n",
    "# Display the test dataframe with risk scores\n",
    "print(test_df[['patient', 'readmission_risk']].head())\n"
   ]
  },
  {
   "cell_type": "code",
   "execution_count": 27,
   "id": "734ae8b2-b0b3-417f-beeb-bdd5425c5efd",
   "metadata": {},
   "outputs": [
    {
     "data": {
      "image/png": "[encoded data removed]",
      "text/plain": [
       "<Figure size 800x600 with 1 Axes>"
      ]
     },
     "metadata": {},
     "output_type": "display_data"
    }
   ],
   "source": [
    "import matplotlib.pyplot as plt\n",
    "\n",
    "# Convert readmission risk to percentage\n",
    "test_df['readmission_risk_percent'] = test_df['readmission_risk'] * 100\n",
    "\n",
    "# Plot the distribution\n",
    "plt.figure(figsize=(8, 6))\n",
    "plt.hist(test_df['readmission_risk_percent'], bins=20, color='skyblue', edgecolor='black', alpha=0.7)\n",
    "plt.title('Distribution of Readmission Risk (%)', fontsize=16)\n",
    "plt.xlabel('Readmission Risk (%)', fontsize=14)\n",
    "plt.ylabel('Frequency', fontsize=14)\n",
    "plt.grid(axis='y', linestyle='--', alpha=0.7)\n",
    "plt.show()\n"
   ]
  },
  {
   "cell_type": "markdown",
   "id": "62d1c3d3-2522-49b7-9386-f64a1c1fb8d8",
   "metadata": {},
   "source": [
    "**Splitting data into train and test method did not yield any improvement. Thus, in order to produce more accurate predictions, we need to either have labeled dataset and/or fine-tune the model experimenting with various parameters.**\n"
   ]
  },
  {
   "cell_type": "code",
   "execution_count": null,
   "id": "f6e2df3e-cccc-45f1-8703-205873d49718",
   "metadata": {},
   "outputs": [],
   "source": [
    "from transformers import Trainer, TrainingArguments\n",
    "\n",
    "training_args = TrainingArguments(\n",
    "    output_dir=\"./results\",  # where to save the model\n",
    "    num_train_epochs=3,      # number of training epochs\n",
    "    per_device_train_batch_size=8,\n",
    "    evaluation_strategy=\"epoch\",\n",
    "    logging_dir='./logs',\n",
    ")\n",
    "\n",
    "trainer = Trainer(\n",
    "    model=model,  # pretrained model\n",
    "    args=training_args,\n",
    "    train_dataset=train_dataset,  # your training data\n",
    "    eval_dataset=eval_dataset,    # your validation data\n",
    ")\n",
    "\n",
    "trainer.train()\n"
   ]
  },
  {
   "cell_type": "code",
   "execution_count": null,
   "id": "f8c2179c-1e94-4295-b7ed-f88221fe8fbd",
   "metadata": {},
   "outputs": [],
   "source": [
    "from transformers import get_scheduler\n",
    "\n",
    "# Scheduler for learning rate adjustment\n",
    "num_training_steps = len(train_loader) * 3  # 3 epochs\n",
    "lr_scheduler = get_scheduler(\"linear\", optimizer=optimizer, num_warmup_steps=0, num_training_steps=num_training_steps)\n",
    "\n",
    "# Training Loop\n",
    "model.train()\n",
    "for epoch in range(3):  # Number of epochs\n",
    "    for batch in train_loader:\n",
    "        # Move data to device\n",
    "        batch = {key: val.to(device) for key, val in batch.items()}\n",
    "\n",
    "        # Forward pass\n",
    "        outputs = model(**batch)\n",
    "        loss = outputs.loss\n",
    "\n",
    "        # Backward pass\n",
    "        optimizer.zero_grad()\n",
    "        loss.backward()\n",
    "        optimizer.step()\n",
    "        lr_scheduler.step()\n",
    "    print(f\"Epoch {epoch + 1} completed.\")\n"
   ]
  },
  {
   "cell_type": "markdown",
   "id": "1cb180ca-e42a-4e0c-8985-9e9cb7da21fd",
   "metadata": {},
   "source": [
    "**Evaluate the model**"
   ]
  },
  {
   "cell_type": "code",
   "execution_count": null,
   "id": "8e045b6b-4b6c-4b0f-aa47-ee288bf5e93b",
   "metadata": {},
   "outputs": [],
   "source": [
    "from sklearn.metrics import accuracy_score\n",
    "\n",
    "model.eval()\n",
    "predictions, true_labels = [], []\n",
    "\n",
    "with torch.no_grad():\n",
    "    for batch in val_loader:\n",
    "        batch = {key: val.to(device) for key, val in batch.items()}\n",
    "        outputs = model(**batch)\n",
    "        logits = outputs.logits\n",
    "        predictions.extend(torch.argmax(logits, axis=1).cpu().numpy())\n",
    "        true_labels.extend(batch['labels'].cpu().numpy())\n",
    "\n",
    "accuracy = accuracy_score(true_labels, predictions)\n",
    "print(f\"Validation Accuracy: {accuracy:.4f}\")\n"
   ]
  },
  {
   "cell_type": "code",
   "execution_count": null,
   "id": "bbd53143-004c-40d5-b3c6-74c9144025bc",
   "metadata": {},
   "outputs": [],
   "source": [
    "model.save_pretrained('./clinicalbert_readmission_classifier')\n",
    "tokenizer.save_pretrained('./clinicalbert_readmission_classifier')\n"
   ]
  },
  {
   "cell_type": "markdown",
   "id": "1f131e13-f75f-4b0e-8b0b-617be8547626",
   "metadata": {},
   "source": [
    "**Method 2 assuming no labels - zero-shot classifier**"
   ]
  },
  {
   "cell_type": "code",
   "execution_count": 28,
   "id": "2ce0b9e6-63d2-403b-b07f-b4dab972af2e",
   "metadata": {},
   "outputs": [
    {
     "name": "stdout",
     "output_type": "stream",
     "text": [
      "{'sequence': 'Patient is recovering well post-surgery, but there are concerns about complications.', 'labels': ['high risk', 'low risk'], 'scores': [0.9266192317008972, 0.0733807310461998]}\n"
     ]
    }
   ],
   "source": [
    "from transformers import pipeline\n",
    "\n",
    "# Load zero-shot classifier pipeline\n",
    "classifier = pipeline(\"zero-shot-classification\", model=\"facebook/bart-large-mnli\")\n",
    "\n",
    "# Define possible categories (labels)\n",
    "labels = [\"high risk\", \"low risk\"]\n",
    "\n",
    "# Example clinical note (your dataset will contain these notes)\n",
    "note = \"Patient is recovering well post-surgery, but there are concerns about complications.\"\n",
    "\n",
    "# Predict the category\n",
    "result = classifier(note, candidate_labels=labels)\n",
    "\n",
    "# Output prediction\n",
    "print(result)\n"
   ]
  }
 ],
 "metadata": {
  "kernelspec": {
   "display_name": "Python 3 (ipykernel)",
   "language": "python",
   "name": "python3"
  },
  "language_info": {
   "codemirror_mode": {
    "name": "ipython",
    "version": 3
   },
   "file_extension": ".py",
   "mimetype": "text/x-python",
   "name": "python",
   "nbconvert_exporter": "python",
   "pygments_lexer": "ipython3",
   "version": "3.11.10"
  }
 },
 "nbformat": 4,
 "nbformat_minor": 5
}
